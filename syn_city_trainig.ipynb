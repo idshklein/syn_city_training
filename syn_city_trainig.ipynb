{
 "cells": [
  {
   "cell_type": "markdown",
   "metadata": {},
   "source": [
    "# ערים סינטטיות - אימון"
   ]
  },
  {
   "cell_type": "markdown",
   "metadata": {},
   "source": [
    "## עד 22.11.2020"
   ]
  },
  {
   "cell_type": "markdown",
   "metadata": {},
   "source": [
    "- שלב 1: ציירו רשת פשוטה\n",
    "- שלב 2: חשבו את מדד הרשת הרצוי\n",
    "    - למשל, [degree](https://en.wikipedia.org/wiki/Degree_%28graph_theory%29). חישבו האם המדד הוא כלל רשתי או עבור כל מוקד, וחשבו אותו בהתאם\n",
    "- שלב 3: בנו קובץ shape של הרשת שבחרתם\n",
    "    - [מדריך לביצוע דיגיטציה בarcmap](https://support.esri.com/en/technical-article/000008086)"
   ]
  },
  {
   "cell_type": "markdown",
   "metadata": {},
   "source": [
    "## עד 29.11.2020"
   ]
  },
  {
   "cell_type": "markdown",
   "metadata": {},
   "source": [
    "- שלב 4: התקינו את [networkx](https://networkx.org/).\n",
    "    - [איך להתקין חבילות בconda](https://docs.conda.io/projects/conda/en/latest/user-guide/tasks/manage-pkgs.html#installing-packages)\n",
    "    - [התקנת networkx](https://anaconda.org/anaconda/networkx)\n",
    "- שלב 5: לימוד networkx:\n",
    "    - [קריאת וכתיבת גרפים](https://networkx.org/documentation/stable/auto_examples/basic/plot_read_write.html#sphx-glr-auto-examples-basic-plot-read-write-py)\n",
    "    - [חישוב מדדים בסיסי](https://networkx.org/documentation/stable/auto_examples/basic/plot_properties.html#sphx-glr-auto-examples-basic-plot-properties-py)"
   ]
  },
  {
   "cell_type": "markdown",
   "metadata": {},
   "source": [
    "## עד 6.11.2020"
   ]
  },
  {
   "cell_type": "markdown",
   "metadata": {},
   "source": [
    "- שלב 6: לימדו איך להשתמש בjupyter notebook\n",
    "    - [למשל, מכאן](https://www.dataquest.io/blog/jupyter-notebook-tutorial/). עד example analysis לא כולל\n",
    "- שלב 7: טענו את הרשת שייצרתם, כפי שלמדתם בשלב 5\n",
    "- שלב 8: חשבו את הdegree  הממוצע ברשת בעזרת networkx"
   ]
  },
  {
   "cell_type": "code",
   "execution_count": 6,
   "metadata": {
    "tags": [
     "remove-cell"
    ]
   },
   "outputs": [
    {
     "data": {
      "text/html": [
       "\"<style>\n",
       ".text_cell_render {\n",
       "direction:rtl;\n",
       "}\n",
       "</style>"
      ],
      "text/plain": [
       "<IPython.core.display.HTML object>"
      ]
     },
     "execution_count": 6,
     "metadata": {},
     "output_type": "execute_result"
    }
   ],
   "source": [
    "from IPython.core.display import HTML\n",
    "def css_styling():\n",
    "    styles = \"\"\"\"<style>\n",
    ".text_cell_render {\n",
    "direction:rtl;\n",
    "}\n",
    "</style>\"\"\"\n",
    "    return HTML(styles)\n",
    "css_styling()"
   ]
  }
 ],
 "metadata": {
  "kernelspec": {
   "display_name": "Python 3",
   "language": "python",
   "name": "python3"
  },
  "language_info": {
   "codemirror_mode": {
    "name": "ipython",
    "version": 3
   },
   "file_extension": ".py",
   "mimetype": "text/x-python",
   "name": "python",
   "nbconvert_exporter": "python",
   "pygments_lexer": "ipython3",
   "version": "3.8.4"
  }
 },
 "nbformat": 4,
 "nbformat_minor": 4
}
